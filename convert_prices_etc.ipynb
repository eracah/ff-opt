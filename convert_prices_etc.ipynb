{
 "cells": [
  {
   "cell_type": "code",
   "execution_count": 22,
   "metadata": {},
   "outputs": [],
   "source": [
    "__author__ = 'racah'\n",
    "import csv\n",
    "import json\n",
    "\n",
    "d = {}\n",
    "lines=[]\n",
    "with open('./espn_new_prices', 'rb') as csvfile:\n",
    "    reader = csv.reader(csvfile, delimiter=',')\n",
    "    for idx, row in enumerate(reader):\n",
    "\n",
    "\n",
    "        price, player= row\n",
    "        player = player.lower()\n",
    "        d[player] = {'price': price}\n",
    "\n",
    "\n",
    "# with open('espn_positions', 'rb') as csvfile:\n",
    "#     reader = csv.reader(csvfile, delimiter=',')\n",
    "#     for idx, row in enumerate(reader):\n",
    "\n",
    "#         _,player,pos,_,_,_ = row\n",
    "#         player = player.lower()\n",
    "#         d[player]['pos'] = pos\n",
    "\n",
    "with open('./fantasy_pts.csv', 'rb') as csvfile:\n",
    "    reader = csv.reader(csvfile, delimiter=',')\n",
    "    for idx, row in enumerate(reader):\n",
    "        player, pos, points = row\n",
    "        player = player.lower()\n",
    "        if player in d:\n",
    "            d[player]['points'] = points\n",
    "            d[player]['pos'] = pos\n",
    "        elif pos =='K':\n",
    "            d[player] = {'price': 1}\n",
    "            d[player]['points'] = points\n",
    "            d[player]['pos'] = pos\n",
    "        else:\n",
    "            pass\n",
    "\n",
    "\n",
    "d ={k: d[k] for k in d.keys() if 'points' in d[k] }\n",
    "for k in d.keys():\n",
    "    d[k]['player'] = k\n",
    "\n",
    "dic = d.values()\n",
    "with open('data.csv', 'wb') as csvfile:\n",
    "    writer = csv.writer(csvfile, delimiter=',')\n",
    "    writer.writerow(dic[0].keys())\n",
    "    for entry in dic:\n",
    "        writer.writerow(entry.values())"
   ]
  },
  {
   "cell_type": "code",
   "execution_count": 23,
   "metadata": {},
   "outputs": [
    {
     "data": {
      "text/plain": [
       "{'player': 'stevesmith', 'points': '99.7', 'pos': 'WR', 'price': '1'}"
      ]
     },
     "execution_count": 23,
     "metadata": {},
     "output_type": "execute_result"
    }
   ],
   "source": [
    "d['stevesmith']"
   ]
  },
  {
   "cell_type": "code",
   "execution_count": 25,
   "metadata": {},
   "outputs": [
    {
     "name": "stdout",
     "output_type": "stream",
     "text": [
      "stevesmith,1,99.7,WR\r",
      "\r\n"
     ]
    }
   ],
   "source": [
    "! cat data.csv | grep \"stevesmith\""
   ]
  },
  {
   "cell_type": "code",
   "execution_count": null,
   "metadata": {
    "collapsed": true
   },
   "outputs": [],
   "source": []
  }
 ],
 "metadata": {
  "kernelspec": {
   "display_name": "Python 2",
   "language": "python",
   "name": "python2"
  },
  "language_info": {
   "codemirror_mode": {
    "name": "ipython",
    "version": 2
   },
   "file_extension": ".py",
   "mimetype": "text/x-python",
   "name": "python",
   "nbconvert_exporter": "python",
   "pygments_lexer": "ipython2",
   "version": "2.7.13"
  }
 },
 "nbformat": 4,
 "nbformat_minor": 1
}
